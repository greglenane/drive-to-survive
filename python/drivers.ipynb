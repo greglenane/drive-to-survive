{
 "cells": [
  {
   "cell_type": "code",
   "execution_count": 5,
   "id": "79f1bef1-3950-4c58-8028-afbd9f641fc9",
   "metadata": {},
   "outputs": [],
   "source": [
    "import requests\n",
    "import pandas as pd"
   ]
  },
  {
   "cell_type": "code",
   "execution_count": 21,
   "id": "c3437918-db37-4fc5-9c00-6a75aa551202",
   "metadata": {},
   "outputs": [],
   "source": [
    "url = \"https://api.jolpi.ca/ergast/f1/2025/drivers/\"\n",
    "response = requests.get(url)\n",
    "data = response.json()"
   ]
  },
  {
   "cell_type": "code",
   "execution_count": 22,
   "id": "9bdd6eda-30da-48c3-99b9-dacf44ea05f9",
   "metadata": {},
   "outputs": [],
   "source": [
    "drivers = data.get(\"MRData\", {}).get(\"DriverTable\", {}).get(\"Drivers\", [])\n",
    "df = pd.DataFrame(drivers)\n",
    "df[\"driver\"] = df[\"givenName\"] + \" \" + df[\"familyName\"]\n",
    "df['driver_id'] = df['driverId']\n",
    "df = df[['driver', 'driver_id']]"
   ]
  },
  {
   "cell_type": "code",
   "execution_count": 23,
   "id": "5ca8452b-c4f6-4717-979e-b58fcba08b55",
   "metadata": {},
   "outputs": [
    {
     "name": "stdout",
     "output_type": "stream",
     "text": [
      "                   driver       driver_id\n",
      "0         Alexander Albon           albon\n",
      "1         Fernando Alonso          alonso\n",
      "2   Andrea Kimi Antonelli       antonelli\n",
      "3          Oliver Bearman         bearman\n",
      "4       Gabriel Bortoleto       bortoleto\n",
      "5             Jack Doohan          doohan\n",
      "6            Pierre Gasly           gasly\n",
      "7            Isack Hadjar          hadjar\n",
      "8          Lewis Hamilton        hamilton\n",
      "9         Nico Hülkenberg      hulkenberg\n",
      "10            Liam Lawson          lawson\n",
      "11        Charles Leclerc         leclerc\n",
      "12           Lando Norris          norris\n",
      "13           Esteban Ocon            ocon\n",
      "14          Oscar Piastri         piastri\n",
      "15         George Russell         russell\n",
      "16           Carlos Sainz           sainz\n",
      "17           Lance Stroll          stroll\n",
      "18           Yuki Tsunoda         tsunoda\n",
      "19         Max Verstappen  max_verstappen\n"
     ]
    }
   ],
   "source": [
    "print(df)"
   ]
  }
 ],
 "metadata": {
  "kernelspec": {
   "display_name": "Python 3 (ipykernel)",
   "language": "python",
   "name": "python3"
  },
  "language_info": {
   "codemirror_mode": {
    "name": "ipython",
    "version": 3
   },
   "file_extension": ".py",
   "mimetype": "text/x-python",
   "name": "python",
   "nbconvert_exporter": "python",
   "pygments_lexer": "ipython3",
   "version": "3.13.2"
  }
 },
 "nbformat": 4,
 "nbformat_minor": 5
}
