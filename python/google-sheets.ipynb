{
 "cells": [
  {
   "cell_type": "code",
   "execution_count": null,
   "id": "80853af7-47de-4358-9d2d-b6ce419e3f51",
   "metadata": {},
   "outputs": [],
   "source": [
    "import gspread\n",
    "from google.oauth2.service_account import Credentials\n",
    "import pandas as pd\n",
    "import json\n",
    "service_account_info = #json-credentials\n",
    "#service_account_info = json.loads(service_account_info)\n",
    "SCOPES = [\n",
    "    \"https://www.googleapis.com/auth/spreadsheets\",\n",
    "    \"https://www.googleapis.com/auth/drive\"\n",
    "]\n",
    "\n",
    "# Authenticate using the credentials\n",
    "creds = Credentials.from_service_account_info(service_account_info, scopes=SCOPES)\n",
    "client = gspread.authorize(creds)\n",
    "\n",
    "# Open the Google Sheet\n",
    "FILE_NAME = \"picks_2025\"\n",
    "spreadsheet = client.open(FILE_NAME)\n",
    "\n",
    "# Get the names of the sheets in the workbook\n",
    "sheet_names = [worksheet.title for worksheet in spreadsheet.worksheets()]"
   ]
  },
  {
   "cell_type": "code",
   "execution_count": 14,
   "id": "f2c09dc5-ad0c-4082-ad4d-318b57dab919",
   "metadata": {},
   "outputs": [
    {
     "data": {
      "text/plain": [
       "['1', 'drivers']"
      ]
     },
     "execution_count": 14,
     "metadata": {},
     "output_type": "execute_result"
    }
   ],
   "source": [
    "sheet_names"
   ]
  }
 ],
 "metadata": {
  "kernelspec": {
   "display_name": "Python 3 (ipykernel)",
   "language": "python",
   "name": "python3"
  },
  "language_info": {
   "codemirror_mode": {
    "name": "ipython",
    "version": 3
   },
   "file_extension": ".py",
   "mimetype": "text/x-python",
   "name": "python",
   "nbconvert_exporter": "python",
   "pygments_lexer": "ipython3",
   "version": "3.13.2"
  }
 },
 "nbformat": 4,
 "nbformat_minor": 5
}
