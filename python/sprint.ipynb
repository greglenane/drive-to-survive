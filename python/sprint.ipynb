{
 "cells": [
  {
   "cell_type": "code",
   "execution_count": 10,
   "id": "c41f54a1-d680-48c1-b1be-728451911f43",
   "metadata": {},
   "outputs": [],
   "source": [
    "import requests\n",
    "import pandas as pd\n",
    "from datetime import datetime\n",
    "from sqlalchemy import create_engine, text\n",
    "from sqlalchemy.types import Integer, String, Date, Time\n",
    "\n",
    "response = requests.get(\"https://api.jolpi.ca/ergast/2024/f1/2024/5/sprint/\")\n",
    "sprint_data = response.json()"
   ]
  },
  {
   "cell_type": "code",
   "execution_count": 11,
   "id": "91420b5d-90d8-42d4-b5ed-58b7dad6a488",
   "metadata": {},
   "outputs": [],
   "source": [
    "round_number = sprint_data.get('MRData', {}).get('RaceTable', {}).get('round', None)\n",
    "race_name = sprint_data.get('MRData', {}).get('RaceTable', {}).get('Races', [{}])[0].get('raceName', None)\n",
    "race_year = sprint_data.get('MRData', {}).get('RaceTable', {}).get('Races', [{}])[0].get('season', None)\n",
    "race_date = sprint_data.get('MRData', {}).get('RaceTable', {}).get('Races', [{}])[0].get('date', None)"
   ]
  },
  {
   "cell_type": "code",
   "execution_count": 12,
   "id": "4c379880-5d07-40e4-92e7-fd59501a7677",
   "metadata": {},
   "outputs": [],
   "source": [
    "sprint_data = sprint_data.get('MRData', {}).get('RaceTable', {}).get('Races', [{}])[0].get('SprintResults', None)\n",
    "df = pd.DataFrame(sprint_data)"
   ]
  },
  {
   "cell_type": "code",
   "execution_count": 13,
   "id": "f82d9759-4618-4e87-b34c-45dad89ad222",
   "metadata": {},
   "outputs": [],
   "source": [
    "df['driver_id'] = df['Driver'].apply(lambda x: x['driverId'])\n",
    "df['constructor_id'] = df['Constructor'].apply(lambda x: x['constructorId'])\n",
    "df['driver'] = df['Driver'].apply(lambda x: f\"{x['givenName']} {x['familyName']}\")\n",
    "df['constructor'] = df['Constructor'].apply(lambda x: x['name'])\n",
    "df['time'] = df['Time'].apply(lambda x: x['time'] if isinstance(x, dict) else None)"
   ]
  },
  {
   "cell_type": "code",
   "execution_count": 14,
   "id": "e8baa5a4-6120-4624-841b-d5a62aa83ffd",
   "metadata": {},
   "outputs": [],
   "source": [
    "df.insert(0, 'race_name', race_name)\n",
    "df.insert(1, 'race_date', race_date)\n",
    "df.insert(2, 'race_year', race_year)\n",
    "df.insert(3, 'round_number', round_number)"
   ]
  },
  {
   "cell_type": "code",
   "execution_count": 15,
   "id": "39eb8155-d275-4594-88d5-087c261cc6f7",
   "metadata": {},
   "outputs": [],
   "source": [
    "df = df[['race_name', 'race_date', 'race_year', 'round_number', \n",
    "         'position', 'points', 'driver', 'driver_id', \n",
    "         'constructor', 'constructor_id', 'grid', 'status',]]"
   ]
  },
  {
   "cell_type": "code",
   "execution_count": 24,
   "id": "dd2be1cc-00c1-4e0a-96a9-d3456e7b3ef1",
   "metadata": {},
   "outputs": [],
   "source": [
    "# PostgreSQL connection details\n",
    "user = \"f1_user\"\n",
    "password = \"drivetosurvive\"\n",
    "host = \"localhost\"\n",
    "port = \"5433\"\n",
    "db = \"drive_to_survive\""
   ]
  },
  {
   "cell_type": "code",
   "execution_count": 25,
   "id": "3338d262-7ec0-4587-9843-8546953713da",
   "metadata": {},
   "outputs": [],
   "source": [
    "# Define SQL to drop and recreate the table\n",
    "create_table_sql = \"\"\"\n",
    "DROP TABLE IF EXISTS sprint_2025;\n",
    "CREATE TABLE sprint_2025 (\n",
    "    race_name VARCHAR(255),\n",
    "    race_date DATE,\n",
    "    race_year INTEGER,\n",
    "    round_number INTEGER,\n",
    "    position INTEGER,\n",
    "    points INTEGER,\n",
    "    driver VARCHAR(255),\n",
    "    driver_id VARCHAR(255),\n",
    "    constructor VARCHAR(255),\n",
    "    constructor_id VARCHAR(255),\n",
    "    grid INTEGER,\n",
    "    status VARCHAR(255)\n",
    ");\n",
    "\"\"\""
   ]
  },
  {
   "cell_type": "code",
   "execution_count": 26,
   "id": "1959dfc4-fa07-4e70-afa9-9cb21321a0ac",
   "metadata": {},
   "outputs": [],
   "source": [
    "# Create SQLAlchemy engine\n",
    "engine = create_engine(f'postgresql://{user}:{password}@{host}:{port}/{db}')"
   ]
  },
  {
   "cell_type": "code",
   "execution_count": 27,
   "id": "a6ee60cb-9e46-4e88-97ef-a7270b08d953",
   "metadata": {},
   "outputs": [],
   "source": [
    "# Execute the table creation SQL\n",
    "with engine.connect() as conn:\n",
    "    conn.execute(text(create_table_sql))\n",
    "    conn.commit()"
   ]
  },
  {
   "cell_type": "code",
   "execution_count": 23,
   "id": "59caf468-797e-4225-a87b-0dfc1120379e",
   "metadata": {},
   "outputs": [
    {
     "data": {
      "text/plain": [
       "20"
      ]
     },
     "execution_count": 23,
     "metadata": {},
     "output_type": "execute_result"
    }
   ],
   "source": [
    "dtype_mapping = {\n",
    "    \"race_name\": String(255),\n",
    "    \"race_date\": Date,\n",
    "    \"race_year\": Integer,\n",
    "    \"round_number\": Integer,\n",
    "    \"position\": Integer,\n",
    "    \"points\": Integer,\n",
    "    \"driver\": String(255),\n",
    "    \"driver_id\": String(255),\n",
    "    \"constructor\": String(255),\n",
    "    \"constructor_id\": String(255),\n",
    "    \"grid\": Integer,\n",
    "    \"status\": String(255),\n",
    "}\n",
    "\n",
    "df.to_sql('sprint_2025', engine, if_exists='replace', index=False, dtype=dtype_mapping)"
   ]
  }
 ],
 "metadata": {
  "kernelspec": {
   "display_name": "Python 3 (ipykernel)",
   "language": "python",
   "name": "python3"
  },
  "language_info": {
   "codemirror_mode": {
    "name": "ipython",
    "version": 3
   },
   "file_extension": ".py",
   "mimetype": "text/x-python",
   "name": "python",
   "nbconvert_exporter": "python",
   "pygments_lexer": "ipython3",
   "version": "3.13.2"
  }
 },
 "nbformat": 4,
 "nbformat_minor": 5
}
