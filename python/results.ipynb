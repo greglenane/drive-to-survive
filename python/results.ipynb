{
 "cells": [
  {
   "cell_type": "code",
   "execution_count": 8,
   "id": "c1988dc1-3d27-4f20-9258-75a0924fc9e5",
   "metadata": {},
   "outputs": [],
   "source": [
    "import requests\n",
    "import pandas as pd\n",
    "from datetime import datetime\n",
    "from sqlalchemy import create_engine, text\n",
    "from sqlalchemy.types import Integer, String, Date, Time\n",
    "\n",
    "response = requests.get(\"https://api.jolpi.ca/ergast/f1/2024/8/results/\")\n",
    "race_data = response.json()"
   ]
  },
  {
   "cell_type": "code",
   "execution_count": 9,
   "id": "1a85625e-73d0-44f3-8261-42f8e8d4c245",
   "metadata": {},
   "outputs": [],
   "source": [
    "round_number = race_data.get('MRData', {}).get('RaceTable', {}).get('round', None)\n",
    "race_name = race_data.get('MRData', {}).get('RaceTable', {}).get('Races', [{}])[0].get('raceName', None)\n",
    "race_year = race_data.get('MRData', {}).get('RaceTable', {}).get('Races', [{}])[0].get('season', None)\n",
    "race_date = race_data.get('MRData', {}).get('RaceTable', {}).get('Races', [{}])[0].get('date', None)"
   ]
  },
  {
   "cell_type": "code",
   "execution_count": 10,
   "id": "be1fe430-fda0-43d0-829a-074a3f860075",
   "metadata": {},
   "outputs": [],
   "source": [
    "results = race_data.get('MRData', {}).get('RaceTable', {}).get('Races', [{}])[0].get('Results', None)"
   ]
  },
  {
   "cell_type": "code",
   "execution_count": 11,
   "id": "7930de5d-f3ab-4593-9db8-cf08e930f130",
   "metadata": {},
   "outputs": [],
   "source": [
    "df = pd.DataFrame(results)"
   ]
  },
  {
   "cell_type": "code",
   "execution_count": 12,
   "id": "c0d5a0b0-96c0-4d1b-8be8-d65914823390",
   "metadata": {},
   "outputs": [],
   "source": [
    "df['driver_id'] = df['Driver'].apply(lambda x: x['driverId'])\n",
    "df['constructor_id'] = df['Constructor'].apply(lambda x: x['constructorId'])\n",
    "df['driver'] = df['Driver'].apply(lambda x: f\"{x['givenName']} {x['familyName']}\")\n",
    "df['constructor'] = df['Constructor'].apply(lambda x: x['name'])\n",
    "df['time'] = df['Time'].apply(lambda x: x['time'] if isinstance(x, dict) else None)\n",
    "df['FastestLap'] = 1 # for 2024 race 8 monaco data error\n",
    "df['fastest_lap_rank'] = df['FastestLap'].apply(lambda x: x['rank'] if isinstance(x, dict) else None) "
   ]
  },
  {
   "cell_type": "code",
   "execution_count": 13,
   "id": "bed56cad-d964-478d-9ce9-266e23d10029",
   "metadata": {},
   "outputs": [],
   "source": [
    "df.insert(0, 'race_name', race_name)\n",
    "df.insert(1, 'race_date', race_date)\n",
    "df.insert(2, 'race_year', race_year)\n",
    "df.insert(3, 'round_number', round_number)"
   ]
  },
  {
   "cell_type": "code",
   "execution_count": 14,
   "id": "829d2f5d-3efb-4821-a910-b26a5d13c2c8",
   "metadata": {},
   "outputs": [],
   "source": [
    "df = df[['race_name', 'race_date', 'race_year', 'round_number', \n",
    "         'position', 'points', 'fastest_lap_rank', 'driver', 'driver_id', \n",
    "         'constructor', 'constructor_id', 'grid', 'status',]]"
   ]
  },
  {
   "cell_type": "code",
   "execution_count": 15,
   "id": "18eb0ec7-f59c-4714-bb78-93fd3a1e3a3f",
   "metadata": {},
   "outputs": [],
   "source": [
    "# PostgreSQL connection details\n",
    "user = \"f1_user\"\n",
    "password = \"drivetosurvive\"\n",
    "host = \"localhost\"\n",
    "port = \"5433\"\n",
    "db = \"drive_to_survive\""
   ]
  },
  {
   "cell_type": "code",
   "execution_count": 43,
   "id": "7e26306f-56ea-4e96-8990-e413a567c2f6",
   "metadata": {},
   "outputs": [],
   "source": [
    "# Define SQL to drop and recreate the table\n",
    "create_table_sql = \"\"\"\n",
    "DROP TABLE IF EXISTS results_2024;\n",
    "CREATE TABLE results_2024 (\n",
    "    race_name VARCHAR(255),\n",
    "    race_date DATE,\n",
    "    race_year INTEGER,\n",
    "    round_number INTEGER,\n",
    "    position INTEGER,\n",
    "    points INTEGER,\n",
    "    fastest_lap_rank INTEGER,\n",
    "    driver VARCHAR(255),\n",
    "    driver_id VARCHAR(255),\n",
    "    constructor VARCHAR(255),\n",
    "    constructor_id VARCHAR(255),\n",
    "    grid INTEGER,\n",
    "    status VARCHAR(255)\n",
    ");\n",
    "\"\"\""
   ]
  },
  {
   "cell_type": "code",
   "execution_count": 16,
   "id": "1273d76b-2d13-462a-9429-d8488894caf2",
   "metadata": {},
   "outputs": [],
   "source": [
    "# Create SQLAlchemy engine\n",
    "engine = create_engine(f'postgresql://{user}:{password}@{host}:{port}/{db}')"
   ]
  },
  {
   "cell_type": "code",
   "execution_count": 45,
   "id": "0909875c-2f26-4bce-abc8-b5c3a5437a26",
   "metadata": {},
   "outputs": [],
   "source": [
    "# Execute the table creation SQL\n",
    "with engine.connect() as conn:\n",
    "    conn.execute(text(create_table_sql))\n",
    "    conn.commit()"
   ]
  },
  {
   "cell_type": "code",
   "execution_count": 17,
   "id": "58cfd30a-135a-477d-8131-a362d03dff02",
   "metadata": {},
   "outputs": [
    {
     "data": {
      "text/plain": [
       "20"
      ]
     },
     "execution_count": 17,
     "metadata": {},
     "output_type": "execute_result"
    }
   ],
   "source": [
    "dtype_mapping = {\n",
    "    \"race_name\": String(255),\n",
    "    \"race_date\": Date,\n",
    "    \"race_year\": Integer,\n",
    "    \"round_number\": Integer,\n",
    "    \"position\": Integer,\n",
    "    \"points\": Integer,\n",
    "    \"fastest_lap_rank\": Integer,\n",
    "    \"driver\": String(255),\n",
    "    \"driver_id\": String(255),\n",
    "    \"constructor\": String(255),\n",
    "    \"constructor_id\": String(255),\n",
    "    \"grid\": Integer,\n",
    "    \"status\": String(255),\n",
    "}\n",
    "\n",
    "df.to_sql('results_2024', engine, if_exists='append', index=False, dtype=dtype_mapping)"
   ]
  }
 ],
 "metadata": {
  "kernelspec": {
   "display_name": "Python 3 (ipykernel)",
   "language": "python",
   "name": "python3"
  },
  "language_info": {
   "codemirror_mode": {
    "name": "ipython",
    "version": 3
   },
   "file_extension": ".py",
   "mimetype": "text/x-python",
   "name": "python",
   "nbconvert_exporter": "python",
   "pygments_lexer": "ipython3",
   "version": "3.13.2"
  }
 },
 "nbformat": 4,
 "nbformat_minor": 5
}
